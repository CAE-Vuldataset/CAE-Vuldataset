{
 "cells": [
  {
   "cell_type": "code",
   "execution_count": 16,
   "metadata": {},
   "outputs": [],
   "source": [
    "import urllib.request"
   ]
  },
  {
   "cell_type": "code",
   "execution_count": 17,
   "metadata": {},
   "outputs": [],
   "source": [
    "def geturl(urllink):\n",
    "    try:\n",
    "        _code_ = urllib.request.urlopen(urllink).code\n",
    "    except Exception as err:\n",
    "        print(f'[ERROR] {err}')\n",
    "        print(f'remove folder')\n",
    "        return 1\n",
    "    \n",
    "    print('actual operation.')\n",
    "    return 0\n",
    "\n"
   ]
  },
  {
   "cell_type": "code",
   "execution_count": 18,
   "metadata": {},
   "outputs": [
    {
     "name": "stdout",
     "output_type": "stream",
     "text": [
      "[ERROR] HTTP Error 404: Not Found\n",
      "remove folder\n"
     ]
    },
    {
     "data": {
      "text/plain": [
       "1"
      ]
     },
     "execution_count": 18,
     "metadata": {},
     "output_type": "execute_result"
    }
   ],
   "source": [
    "geturl(f\"https://github.com/mjg59/linux/commit/4b5f2762ec914c9dfd0e9d2377c0574f2ee9a1f9.patch\")"
   ]
  },
  {
   "cell_type": "code",
   "execution_count": 19,
   "metadata": {},
   "outputs": [
    {
     "name": "stdout",
     "output_type": "stream",
     "text": [
      "actual operation.\n"
     ]
    },
    {
     "data": {
      "text/plain": [
       "0"
      ]
     },
     "execution_count": 19,
     "metadata": {},
     "output_type": "execute_result"
    }
   ],
   "source": [
    "geturl(f\"https://github.com/zherczeg/jerryscript/commit/66683e5d4b3d9474e86900b86be29105524b740c.patch\")"
   ]
  }
 ],
 "metadata": {
  "kernelspec": {
   "display_name": "paimon",
   "language": "python",
   "name": "python3"
  },
  "language_info": {
   "codemirror_mode": {
    "name": "ipython",
    "version": 3
   },
   "file_extension": ".py",
   "mimetype": "text/x-python",
   "name": "python",
   "nbconvert_exporter": "python",
   "pygments_lexer": "ipython3",
   "version": "3.9.16"
  },
  "orig_nbformat": 4
 },
 "nbformat": 4,
 "nbformat_minor": 2
}
